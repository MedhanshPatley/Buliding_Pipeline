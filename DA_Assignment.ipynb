{
 "cells": [
  {
   "cell_type": "code",
   "execution_count": 139,
   "outputs": [],
   "source": [
    "from striprtf.striprtf import rtf_to_text\n",
    "from sklearn.model_selection import TimeSeriesSplit, KFold, StratifiedKFold, GridSearchCV\n",
    "from sklearn.ensemble import RandomForestRegressor\n",
    "from sklearn.preprocessing import LabelEncoder\n",
    "from sklearn.decomposition import PCA\n",
    "from sklearn.ensemble import RandomForestRegressor\n",
    "import warnings\n",
    "from sklearn.metrics import mean_squared_error, r2_score\n",
    "warnings.filterwarnings('ignore')\n",
    "import json\n",
    "import pandas as pd\n",
    "import numpy as np"
   ],
   "metadata": {
    "collapsed": false,
    "ExecuteTime": {
     "end_time": "2025-01-11T14:05:49.861005700Z",
     "start_time": "2025-01-11T14:05:49.834003300Z"
    }
   },
   "id": "c755774d6882b8ff"
  },
  {
   "cell_type": "code",
   "execution_count": 127,
   "outputs": [],
   "source": [
    "def convert_rtf_json(rtf_file_path,output_json_path):\n",
    "    with open(rtf_file_path, \"r\") as file:\n",
    "        rtf_content = file.read()\n",
    "    plain_text = rtf_to_text(rtf_content)\n",
    "    try:\n",
    "        json_data = json.loads(plain_text)  \n",
    "    except json.JSONDecodeError:\n",
    "        print(\"Error: The RTF content is not valid JSON. Please clean up the content.\")\n",
    "        raise\n",
    "    with open(output_json_path, \"w\") as json_file:\n",
    "        json.dump(json_data, json_file, indent=4)\n",
    "    \n",
    "    print(f\"Converted JSON saved to: {output_json_path}\")"
   ],
   "metadata": {
    "collapsed": false,
    "ExecuteTime": {
     "end_time": "2025-01-11T13:55:11.666742Z",
     "start_time": "2025-01-11T13:55:11.646864Z"
    }
   },
   "id": "215c34968208eabc"
  },
  {
   "cell_type": "code",
   "execution_count": 128,
   "outputs": [
    {
     "name": "stdout",
     "output_type": "stream",
     "text": [
      "Converted JSON saved to: algoparams_from_ui.json\n"
     ]
    }
   ],
   "source": [
    "rtf_file_path = convert_rtf_json(\"algoparams_from_ui.json.rtf\",\"algoparams_from_ui.json\")\n"
   ],
   "metadata": {
    "collapsed": false,
    "ExecuteTime": {
     "end_time": "2025-01-11T13:55:12.676796400Z",
     "start_time": "2025-01-11T13:55:12.637027400Z"
    }
   },
   "id": "56853961fd0129da"
  },
  {
   "cell_type": "code",
   "execution_count": 129,
   "outputs": [
    {
     "name": "stdout",
     "output_type": "stream",
     "text": [
      "{'session_name': 'test', 'session_description': 'test', 'design_state_data': {'session_info': {'project_id': '1', 'experiment_id': 'kkkk-11', 'dataset': 'iris_modified.csv', 'session_name': 'test', 'session_description': 'test'}, 'target': {'prediction_type': 'Regression', 'target': 'petal_width', 'type': 'regression', 'partitioning': True}, 'train': {'policy': 'Split the dataset', 'time_variable': 'sepal_length', 'sampling_method': 'No sampling(whole data)', 'split': 'Randomly', 'k_fold': False, 'train_ratio': 0, 'random_seed': 0}, 'metrics': {'optomize_model_hyperparameters_for': 'AUC', 'optimize_threshold_for': 'F1 Score', 'compute_lift_at': 0, 'cost_matrix_gain_for_true_prediction_true_result': 1, 'cost_matrix_gain_for_true_prediction_false_result': 0, 'cost_matrix_gain_for_false_prediction_true_result': 0, 'cost_matrix_gain_for_false_prediction_false_result': 0}, 'feature_handling': {'sepal_length': {'feature_name': 'sepal_length', 'is_selected': True, 'feature_variable_type': 'numerical', 'feature_details': {'numerical_handling': 'Keep as regular numerical feature', 'rescaling': 'No rescaling', 'make_derived_feats': False, 'missing_values': 'Impute', 'impute_with': 'Average of values', 'impute_value': 0}}, 'sepal_width': {'feature_name': 'sepal_width', 'is_selected': True, 'feature_variable_type': 'numerical', 'feature_details': {'numerical_handling': 'Keep as regular numerical feature', 'rescaling': 'No rescaling', 'make_derived_feats': False, 'missing_values': 'Impute', 'impute_with': 'custom', 'impute_value': -1}}, 'petal_length': {'feature_name': 'petal_length', 'is_selected': True, 'feature_variable_type': 'numerical', 'feature_details': {'numerical_handling': 'Keep as regular numerical feature', 'rescaling': 'No rescaling', 'make_derived_feats': False, 'missing_values': 'Impute', 'impute_with': 'Average of values', 'impute_value': 0}}, 'petal_width': {'feature_name': 'petal_width', 'is_selected': True, 'feature_variable_type': 'numerical', 'feature_details': {'numerical_handling': 'Keep as regular numerical feature', 'rescaling': 'No rescaling', 'make_derived_feats': False, 'missing_values': 'Impute', 'impute_with': 'custom', 'impute_value': -2}}, 'species': {'feature_name': 'species', 'is_selected': True, 'feature_variable_type': 'text', 'feature_details': {'text_handling': 'Tokenize and hash', 'hash_columns': 0}}}, 'feature_generation': {'linear_interactions': [['petal_length', 'sepal_width']], 'linear_scalar_type': 'robust', 'polynomial_interactions': ['petal_length/sepal_width', 'petal_width/species'], 'explicit_pairwise_interactions': ['sepal_width/sepal_length', 'petal_width/sepal_length']}, 'feature_reduction': {'feature_reduction_method': 'Tree-based', 'num_of_features_to_keep': '4', 'num_of_trees': '5', 'depth_of_trees': '6'}, 'hyperparameters': {'stratergy': 'Grid Search', 'shuffle_grid': True, 'random_state': 1, 'max_iterations': 2, 'max_search_time': 3, 'parallelism': 5, 'cross_validation_stratergy': 'Time-based K-fold(with overlap)', 'num_of_folds': 6, 'split_ratio': 0, 'stratified': True}, 'weighting_stratergy': {'weighting_stratergy_method': 'Sample weights', 'weighting_stratergy_weight_variable': 'petal_length'}, 'probability_calibration': {'probability_calibration_method': 'Sigmoid - Platt Scaling'}, 'algorithms': {'RandomForestClassifier': {'model_name': 'Random Forest Classifier', 'is_selected': False, 'min_trees': 10, 'max_trees': 30, 'feature_sampling_statergy': 'Default', 'min_depth': 20, 'max_depth': 30, 'min_samples_per_leaf_min_value': 5, 'min_samples_per_leaf_max_value': 50, 'parallelism': 0}, 'RandomForestRegressor': {'model_name': 'Random Forest Regressor', 'is_selected': True, 'min_trees': 10, 'max_trees': 20, 'feature_sampling_statergy': 'Default', 'min_depth': 20, 'max_depth': 25, 'min_samples_per_leaf_min_value': 5, 'min_samples_per_leaf_max_value': 10, 'parallelism': 0}, 'GBTClassifier': {'model_name': 'Gradient Boosted Trees', 'is_selected': False, 'num_of_BoostingStages': [67, 89], 'feature_sampling_statergy': 'Fixed number', 'learningRate': [], 'use_deviance': True, 'use_exponential': False, 'fixed_number': 22, 'min_subsample': 1, 'max_subsample': 2, 'min_stepsize': 0.1, 'max_stepsize': 0.5, 'min_iter': 20, 'max_iter': 40, 'min_depth': 5, 'max_depth': 7}, 'GBTRegressor': {'model_name': 'Gradient Boosted Trees', 'is_selected': False, 'num_of_BoostingStages': [67, 89], 'feature_sampling_statergy': 'Fixed number', 'use_deviance': True, 'use_exponential': False, 'fixed_number': 22, 'min_subsample': 1, 'max_subsample': 2, 'min_stepsize': 0.1, 'max_stepsize': 0.5, 'min_iter': 20, 'max_iter': 40, 'min_depth': 5, 'max_depth': 7}, 'LinearRegression': {'model_name': 'LinearRegression', 'is_selected': False, 'parallelism': 2, 'min_iter': 30, 'max_iter': 50, 'min_regparam': 0.5, 'max_regparam': 0.8, 'min_elasticnet': 0.5, 'max_elasticnet': 0.8}, 'LogisticRegression': {'model_name': 'LogisticRegression', 'is_selected': False, 'parallelism': 2, 'min_iter': 30, 'max_iter': 50, 'min_regparam': 0.5, 'max_regparam': 0.8, 'min_elasticnet': 0.5, 'max_elasticnet': 0.8}, 'RidgeRegression': {'model_name': 'RidgeRegression', 'is_selected': False, 'regularization_term': 'Specify values to test', 'min_iter': 30, 'max_iter': 50, 'min_regparam': 0.5, 'max_regparam': 0.8}, 'LassoRegression': {'model_name': 'Lasso Regression', 'is_selected': False, 'regularization_term': 'Specify values to test', 'min_iter': 30, 'max_iter': 50, 'min_regparam': 0.5, 'max_regparam': 0.8}, 'ElasticNetRegression': {'model_name': 'Lasso Regression', 'is_selected': False, 'regularization_term': 'Specify values to test', 'min_iter': 30, 'max_iter': 50, 'min_regparam': 0.5, 'max_regparam': 0.8, 'min_elasticnet': 0.5, 'max_elasticnet': 0.8}, 'xg_boost': {'model_name': 'XG Boost', 'is_selected': False, 'use_gradient_boosted_tree': True, 'dart': True, 'tree_method': '', 'random_state': 0, 'max_num_of_trees': 0, 'early_stopping': True, 'early_stopping_rounds': 2, 'max_depth_of_tree': [56, 89], 'learningRate': [89, 76], 'l1_regularization': [77], 'l2_regularization': [78], 'gamma': [68], 'min_child_weight': [67], 'sub_sample': [67], 'col_sample_by_tree': [67], 'replace_missing_values': False, 'parallelism': 0}, 'DecisionTreeRegressor': {'model_name': 'Decision Tree', 'is_selected': False, 'min_depth': 4, 'max_depth': 7, 'use_gini': False, 'use_entropy': True, 'min_samples_per_leaf': [12, 6], 'use_best': True, 'use_random': True}, 'DecisionTreeClassifier': {'model_name': 'Decision Tree', 'is_selected': False, 'min_depth': 4, 'max_depth': 7, 'use_gini': False, 'use_entropy': True, 'min_samples_per_leaf': [12, 6], 'use_best': True, 'use_random': True}, 'SVM': {'model_name': 'Support Vector Machine', 'is_selected': False, 'linear_kernel': True, 'rep_kernel': True, 'polynomial_kernel': True, 'sigmoid_kernel': True, 'c_value': [566, 79], 'auto': True, 'scale': True, 'custom_gamma_values': True, 'tolerance': 7, 'max_iterations': 7}, 'SGD': {'model_name': 'Stochastic Gradient Descent', 'is_selected': False, 'use_logistics': True, 'use_modified_hubber_loss': False, 'max_iterations': False, 'tolerance': 56, 'use_l1_regularization': 'on', 'use_l2_regularization': 'on', 'use_elastic_net_regularization': True, 'alpha_value': [79, 56], 'parallelism': 1}, 'KNN': {'model_name': 'KNN', 'is_selected': False, 'k_value': [78], 'distance_weighting': True, 'neighbour_finding_algorithm': 'Automatic', 'random_state': 0, 'p_value': 0}, 'extra_random_trees': {'model_name': 'Extra Random Trees', 'is_selected': False, 'num_of_trees': [45, 489], 'feature_sampling_statergy': 'Square root and Logarithm', 'max_depth': [12, 45], 'min_samples_per_leaf': [78, 56], 'parallelism': 3}, 'neural_network': {'model_name': 'Neural Network', 'is_selected': False, 'hidden_layer_sizes': [67, 89], 'activation': '', 'alpha_value': 0, 'max_iterations': 0, 'convergence_tolerance': 0, 'early_stopping': True, 'solver': 'ADAM', 'shuffle_data': True, 'initial_learning_rate': 0, 'automatic_batching': True, 'beta_1': 0, 'beta_2': 0, 'epsilon': 0, 'power_t': 0, 'momentum': 0, 'use_nesterov_momentum': False}}}}\n"
     ]
    }
   ],
   "source": [
    "with open(\"algoparams_from_ui.json\",'r') as file:\n",
    "    data = json.load(file)\n",
    "print(data)"
   ],
   "metadata": {
    "collapsed": false,
    "ExecuteTime": {
     "end_time": "2025-01-11T13:55:13.894640600Z",
     "start_time": "2025-01-11T13:55:13.872869700Z"
    }
   },
   "id": "cfcf0446a95a77fa"
  },
  {
   "cell_type": "code",
   "execution_count": 52,
   "outputs": [],
   "source": [
    "def extracting_target_predictive_type(json_data):\n",
    "    target_dic = {}\n",
    "    target_main = json_data[\"design_state_data\"][\"target\"]\n",
    "    target_colum = target_main['target']\n",
    "    prediction_type = target_main[\"prediction_type\"]\n",
    "    target_dic ={'target' : target_colum, 'prediction_type': prediction_type}\n",
    "    print(f'{target_colum}')\n",
    "    print(f\"{prediction_type}\")\n",
    "    return target_dic"
   ],
   "metadata": {
    "collapsed": false,
    "ExecuteTime": {
     "end_time": "2025-01-11T07:04:19.158968800Z",
     "start_time": "2025-01-11T07:04:19.132786700Z"
    }
   },
   "id": "492e517f27f0bf90"
  },
  {
   "cell_type": "code",
   "execution_count": 53,
   "outputs": [
    {
     "name": "stdout",
     "output_type": "stream",
     "text": [
      "petal_width\n",
      "Regression\n"
     ]
    }
   ],
   "source": [
    "target_predictive_type = extracting_target_predictive_type(data)"
   ],
   "metadata": {
    "collapsed": false,
    "ExecuteTime": {
     "end_time": "2025-01-11T07:04:20.276611500Z",
     "start_time": "2025-01-11T07:04:20.256321Z"
    }
   },
   "id": "74acc4d8f3b6f217"
  },
  {
   "cell_type": "code",
   "execution_count": 106,
   "outputs": [],
   "source": [
    "def load_data(csv_path):\n",
    "    dataframe = pd.read_csv(csv_path)\n",
    "    return dataframe"
   ],
   "metadata": {
    "collapsed": false,
    "ExecuteTime": {
     "end_time": "2025-01-11T13:28:54.543458Z",
     "start_time": "2025-01-11T13:28:54.511662200Z"
    }
   },
   "id": "c5e34112cd1b8463"
  },
  {
   "cell_type": "code",
   "execution_count": 99,
   "outputs": [],
   "source": [
    "def checking_null(csv_path):\n",
    "    df = pd.read_csv(csv_path)\n",
    "    null_value = df.isnull().sum()\n",
    "    return null_value\n",
    "    "
   ],
   "metadata": {
    "collapsed": false,
    "ExecuteTime": {
     "end_time": "2025-01-11T13:08:50.662986200Z",
     "start_time": "2025-01-11T13:08:50.630724200Z"
    }
   },
   "id": "486e9846b22581d5"
  },
  {
   "cell_type": "code",
   "execution_count": 55,
   "outputs": [],
   "source": [
    "df =pd.read_csv('iris.csv')"
   ],
   "metadata": {
    "collapsed": false
   },
   "id": "84ebf6d790cccf4a"
  },
  {
   "cell_type": "code",
   "execution_count": 11,
   "outputs": [
    {
     "data": {
      "text/plain": "     sepal_length  sepal_width  petal_length  petal_width         species\n0             5.1          3.5           1.4          0.2     Iris-setosa\n1             4.9          3.0           1.4          0.2     Iris-setosa\n2             4.7          3.2           1.3          0.2     Iris-setosa\n3             4.6          3.1           1.5          0.2     Iris-setosa\n4             5.0          3.6           1.4          0.2     Iris-setosa\n..            ...          ...           ...          ...             ...\n145           6.7          3.0           5.2          2.3  Iris-virginica\n146           6.3          2.5           5.0          1.9  Iris-virginica\n147           6.5          3.0           5.2          2.0  Iris-virginica\n148           6.2          3.4           5.4          2.3  Iris-virginica\n149           5.9          3.0           5.1          1.8  Iris-virginica\n\n[150 rows x 5 columns]",
      "text/html": "<div>\n<style scoped>\n    .dataframe tbody tr th:only-of-type {\n        vertical-align: middle;\n    }\n\n    .dataframe tbody tr th {\n        vertical-align: top;\n    }\n\n    .dataframe thead th {\n        text-align: right;\n    }\n</style>\n<table border=\"1\" class=\"dataframe\">\n  <thead>\n    <tr style=\"text-align: right;\">\n      <th></th>\n      <th>sepal_length</th>\n      <th>sepal_width</th>\n      <th>petal_length</th>\n      <th>petal_width</th>\n      <th>species</th>\n    </tr>\n  </thead>\n  <tbody>\n    <tr>\n      <th>0</th>\n      <td>5.1</td>\n      <td>3.5</td>\n      <td>1.4</td>\n      <td>0.2</td>\n      <td>Iris-setosa</td>\n    </tr>\n    <tr>\n      <th>1</th>\n      <td>4.9</td>\n      <td>3.0</td>\n      <td>1.4</td>\n      <td>0.2</td>\n      <td>Iris-setosa</td>\n    </tr>\n    <tr>\n      <th>2</th>\n      <td>4.7</td>\n      <td>3.2</td>\n      <td>1.3</td>\n      <td>0.2</td>\n      <td>Iris-setosa</td>\n    </tr>\n    <tr>\n      <th>3</th>\n      <td>4.6</td>\n      <td>3.1</td>\n      <td>1.5</td>\n      <td>0.2</td>\n      <td>Iris-setosa</td>\n    </tr>\n    <tr>\n      <th>4</th>\n      <td>5.0</td>\n      <td>3.6</td>\n      <td>1.4</td>\n      <td>0.2</td>\n      <td>Iris-setosa</td>\n    </tr>\n    <tr>\n      <th>...</th>\n      <td>...</td>\n      <td>...</td>\n      <td>...</td>\n      <td>...</td>\n      <td>...</td>\n    </tr>\n    <tr>\n      <th>145</th>\n      <td>6.7</td>\n      <td>3.0</td>\n      <td>5.2</td>\n      <td>2.3</td>\n      <td>Iris-virginica</td>\n    </tr>\n    <tr>\n      <th>146</th>\n      <td>6.3</td>\n      <td>2.5</td>\n      <td>5.0</td>\n      <td>1.9</td>\n      <td>Iris-virginica</td>\n    </tr>\n    <tr>\n      <th>147</th>\n      <td>6.5</td>\n      <td>3.0</td>\n      <td>5.2</td>\n      <td>2.0</td>\n      <td>Iris-virginica</td>\n    </tr>\n    <tr>\n      <th>148</th>\n      <td>6.2</td>\n      <td>3.4</td>\n      <td>5.4</td>\n      <td>2.3</td>\n      <td>Iris-virginica</td>\n    </tr>\n    <tr>\n      <th>149</th>\n      <td>5.9</td>\n      <td>3.0</td>\n      <td>5.1</td>\n      <td>1.8</td>\n      <td>Iris-virginica</td>\n    </tr>\n  </tbody>\n</table>\n<p>150 rows × 5 columns</p>\n</div>"
     },
     "execution_count": 11,
     "metadata": {},
     "output_type": "execute_result"
    }
   ],
   "source": [
    "df"
   ],
   "metadata": {
    "collapsed": false
   },
   "id": "ffe2c1f09d5b9332"
  },
  {
   "cell_type": "code",
   "execution_count": 13,
   "outputs": [
    {
     "data": {
      "text/plain": "sepal_length    0\nsepal_width     0\npetal_length    0\npetal_width     0\nspecies         0\ndtype: int64"
     },
     "execution_count": 13,
     "metadata": {},
     "output_type": "execute_result"
    }
   ],
   "source": [
    "df.isnull().sum()"
   ],
   "metadata": {
    "collapsed": false
   },
   "id": "59faf5cebac81016"
  },
  {
   "cell_type": "markdown",
   "source": [],
   "metadata": {
    "collapsed": false
   },
   "id": "88a09863a852c4cc"
  },
  {
   "cell_type": "code",
   "execution_count": 138,
   "outputs": [],
   "source": [
    "y = df[target_predictive_type['target']]\n",
    "X = df.drop(target_predictive_type['target'], axis=1)"
   ],
   "metadata": {
    "collapsed": false,
    "ExecuteTime": {
     "end_time": "2025-01-11T14:00:52.988652600Z",
     "start_time": "2025-01-11T14:00:52.953981600Z"
    }
   },
   "id": "ef6e639fe936b7ae"
  },
  {
   "cell_type": "code",
   "execution_count": 44,
   "outputs": [
    {
     "data": {
      "text/plain": "0      0.2\n1      0.2\n2      0.2\n3      0.2\n4      0.2\n      ... \n145    2.3\n146    1.9\n147    2.0\n148    2.3\n149    1.8\nName: petal_width, Length: 150, dtype: float64"
     },
     "execution_count": 44,
     "metadata": {},
     "output_type": "execute_result"
    }
   ],
   "source": [
    "y"
   ],
   "metadata": {
    "collapsed": false,
    "ExecuteTime": {
     "end_time": "2025-01-11T06:48:14.618520Z",
     "start_time": "2025-01-11T06:48:14.593165500Z"
    }
   },
   "id": "d72cc0cd804a08cd"
  },
  {
   "cell_type": "code",
   "execution_count": 46,
   "outputs": [
    {
     "data": {
      "text/plain": "     sepal_length  sepal_width  petal_length         species\n0             5.1          3.5           1.4     Iris-setosa\n1             4.9          3.0           1.4     Iris-setosa\n2             4.7          3.2           1.3     Iris-setosa\n3             4.6          3.1           1.5     Iris-setosa\n4             5.0          3.6           1.4     Iris-setosa\n..            ...          ...           ...             ...\n145           6.7          3.0           5.2  Iris-virginica\n146           6.3          2.5           5.0  Iris-virginica\n147           6.5          3.0           5.2  Iris-virginica\n148           6.2          3.4           5.4  Iris-virginica\n149           5.9          3.0           5.1  Iris-virginica\n\n[150 rows x 4 columns]",
      "text/html": "<div>\n<style scoped>\n    .dataframe tbody tr th:only-of-type {\n        vertical-align: middle;\n    }\n\n    .dataframe tbody tr th {\n        vertical-align: top;\n    }\n\n    .dataframe thead th {\n        text-align: right;\n    }\n</style>\n<table border=\"1\" class=\"dataframe\">\n  <thead>\n    <tr style=\"text-align: right;\">\n      <th></th>\n      <th>sepal_length</th>\n      <th>sepal_width</th>\n      <th>petal_length</th>\n      <th>species</th>\n    </tr>\n  </thead>\n  <tbody>\n    <tr>\n      <th>0</th>\n      <td>5.1</td>\n      <td>3.5</td>\n      <td>1.4</td>\n      <td>Iris-setosa</td>\n    </tr>\n    <tr>\n      <th>1</th>\n      <td>4.9</td>\n      <td>3.0</td>\n      <td>1.4</td>\n      <td>Iris-setosa</td>\n    </tr>\n    <tr>\n      <th>2</th>\n      <td>4.7</td>\n      <td>3.2</td>\n      <td>1.3</td>\n      <td>Iris-setosa</td>\n    </tr>\n    <tr>\n      <th>3</th>\n      <td>4.6</td>\n      <td>3.1</td>\n      <td>1.5</td>\n      <td>Iris-setosa</td>\n    </tr>\n    <tr>\n      <th>4</th>\n      <td>5.0</td>\n      <td>3.6</td>\n      <td>1.4</td>\n      <td>Iris-setosa</td>\n    </tr>\n    <tr>\n      <th>...</th>\n      <td>...</td>\n      <td>...</td>\n      <td>...</td>\n      <td>...</td>\n    </tr>\n    <tr>\n      <th>145</th>\n      <td>6.7</td>\n      <td>3.0</td>\n      <td>5.2</td>\n      <td>Iris-virginica</td>\n    </tr>\n    <tr>\n      <th>146</th>\n      <td>6.3</td>\n      <td>2.5</td>\n      <td>5.0</td>\n      <td>Iris-virginica</td>\n    </tr>\n    <tr>\n      <th>147</th>\n      <td>6.5</td>\n      <td>3.0</td>\n      <td>5.2</td>\n      <td>Iris-virginica</td>\n    </tr>\n    <tr>\n      <th>148</th>\n      <td>6.2</td>\n      <td>3.4</td>\n      <td>5.4</td>\n      <td>Iris-virginica</td>\n    </tr>\n    <tr>\n      <th>149</th>\n      <td>5.9</td>\n      <td>3.0</td>\n      <td>5.1</td>\n      <td>Iris-virginica</td>\n    </tr>\n  </tbody>\n</table>\n<p>150 rows × 4 columns</p>\n</div>"
     },
     "execution_count": 46,
     "metadata": {},
     "output_type": "execute_result"
    }
   ],
   "source": [
    "X"
   ],
   "metadata": {
    "collapsed": false,
    "ExecuteTime": {
     "end_time": "2025-01-11T06:48:29.335681500Z",
     "start_time": "2025-01-11T06:48:29.299217300Z"
    }
   },
   "id": "dff5e91dbb30c9e2"
  },
  {
   "cell_type": "code",
   "execution_count": 67,
   "outputs": [],
   "source": [
    "\n",
    "\n",
    "def encode_categorical_features(X):\n",
    "    X_encoded = X.copy() \n",
    "\n",
    "    for column in X_encoded.select_dtypes(include=['object', 'category']).columns:\n",
    "        le = LabelEncoder()\n",
    "        X_encoded[column] = le.fit_transform(X_encoded[column])\n",
    "\n",
    "    return X_encoded  \n"
   ],
   "metadata": {
    "collapsed": false,
    "ExecuteTime": {
     "end_time": "2025-01-11T07:22:59.406882700Z",
     "start_time": "2025-01-11T07:22:59.387989400Z"
    }
   },
   "id": "14666ee864ce83d0"
  },
  {
   "cell_type": "code",
   "execution_count": 68,
   "outputs": [],
   "source": [
    "encode_feature = encode_categorical_features(X)"
   ],
   "metadata": {
    "collapsed": false,
    "ExecuteTime": {
     "end_time": "2025-01-11T07:23:00.903251400Z",
     "start_time": "2025-01-11T07:23:00.892151800Z"
    }
   },
   "id": "65d7f4352065f657"
  },
  {
   "cell_type": "code",
   "execution_count": 70,
   "outputs": [
    {
     "data": {
      "text/plain": "     sepal_length  sepal_width  petal_length  species\n0             5.1          3.5           1.4        0\n1             4.9          3.0           1.4        0\n2             4.7          3.2           1.3        0\n3             4.6          3.1           1.5        0\n4             5.0          3.6           1.4        0\n..            ...          ...           ...      ...\n145           6.7          3.0           5.2        2\n146           6.3          2.5           5.0        2\n147           6.5          3.0           5.2        2\n148           6.2          3.4           5.4        2\n149           5.9          3.0           5.1        2\n\n[150 rows x 4 columns]",
      "text/html": "<div>\n<style scoped>\n    .dataframe tbody tr th:only-of-type {\n        vertical-align: middle;\n    }\n\n    .dataframe tbody tr th {\n        vertical-align: top;\n    }\n\n    .dataframe thead th {\n        text-align: right;\n    }\n</style>\n<table border=\"1\" class=\"dataframe\">\n  <thead>\n    <tr style=\"text-align: right;\">\n      <th></th>\n      <th>sepal_length</th>\n      <th>sepal_width</th>\n      <th>petal_length</th>\n      <th>species</th>\n    </tr>\n  </thead>\n  <tbody>\n    <tr>\n      <th>0</th>\n      <td>5.1</td>\n      <td>3.5</td>\n      <td>1.4</td>\n      <td>0</td>\n    </tr>\n    <tr>\n      <th>1</th>\n      <td>4.9</td>\n      <td>3.0</td>\n      <td>1.4</td>\n      <td>0</td>\n    </tr>\n    <tr>\n      <th>2</th>\n      <td>4.7</td>\n      <td>3.2</td>\n      <td>1.3</td>\n      <td>0</td>\n    </tr>\n    <tr>\n      <th>3</th>\n      <td>4.6</td>\n      <td>3.1</td>\n      <td>1.5</td>\n      <td>0</td>\n    </tr>\n    <tr>\n      <th>4</th>\n      <td>5.0</td>\n      <td>3.6</td>\n      <td>1.4</td>\n      <td>0</td>\n    </tr>\n    <tr>\n      <th>...</th>\n      <td>...</td>\n      <td>...</td>\n      <td>...</td>\n      <td>...</td>\n    </tr>\n    <tr>\n      <th>145</th>\n      <td>6.7</td>\n      <td>3.0</td>\n      <td>5.2</td>\n      <td>2</td>\n    </tr>\n    <tr>\n      <th>146</th>\n      <td>6.3</td>\n      <td>2.5</td>\n      <td>5.0</td>\n      <td>2</td>\n    </tr>\n    <tr>\n      <th>147</th>\n      <td>6.5</td>\n      <td>3.0</td>\n      <td>5.2</td>\n      <td>2</td>\n    </tr>\n    <tr>\n      <th>148</th>\n      <td>6.2</td>\n      <td>3.4</td>\n      <td>5.4</td>\n      <td>2</td>\n    </tr>\n    <tr>\n      <th>149</th>\n      <td>5.9</td>\n      <td>3.0</td>\n      <td>5.1</td>\n      <td>2</td>\n    </tr>\n  </tbody>\n</table>\n<p>150 rows × 4 columns</p>\n</div>"
     },
     "execution_count": 70,
     "metadata": {},
     "output_type": "execute_result"
    }
   ],
   "source": [
    "encode_feature"
   ],
   "metadata": {
    "collapsed": false,
    "ExecuteTime": {
     "end_time": "2025-01-11T07:23:14.006970900Z",
     "start_time": "2025-01-11T07:23:13.974915800Z"
    }
   },
   "id": "b725e5f5f866af5a"
  },
  {
   "cell_type": "code",
   "execution_count": 69,
   "outputs": [
    {
     "name": "stdout",
     "output_type": "stream",
     "text": [
      "sepal_length    float64\n",
      "sepal_width     float64\n",
      "petal_length    float64\n",
      "species           int32\n",
      "dtype: object\n"
     ]
    }
   ],
   "source": [
    "print(encode_feature.dtypes)"
   ],
   "metadata": {
    "collapsed": false,
    "ExecuteTime": {
     "end_time": "2025-01-11T07:23:02.524362100Z",
     "start_time": "2025-01-11T07:23:02.509413600Z"
    }
   },
   "id": "af4bfa143d8debdd"
  },
  {
   "cell_type": "code",
   "execution_count": 17,
   "outputs": [],
   "source": [
    "def handle_missing_values(df, json_data):\n",
    "    feature_handling = json_data[\"design_state_data\"][\"feature_handling\"]\n",
    "    df_imputed = df.copy()\n",
    "    \n",
    "    for feature_name, feature_data in feature_handling.items():\n",
    "        if not feature_data.get(\"is_selected\") or not df[feature_name].isnull().any():\n",
    "            continue\n",
    "            \n",
    "        impute_with = feature_data[\"feature_details\"].get(\"impute_with\")\n",
    "        \n",
    "        if impute_with == \"Average of values\":\n",
    "            fill_value = df[feature_name].mean()\n",
    "            df_imputed[feature_name].fillna(fill_value, inplace=True)\n",
    "            print(f\"Imputed {feature_name} with mean value: {fill_value}\")\n",
    "            \n",
    "        elif impute_with == \"custom\":\n",
    "            fill_value = feature_data[\"feature_details\"].get(\"impute_value\")\n",
    "            df_imputed[feature_name].fillna(fill_value, inplace=True)\n",
    "            print(f\"Imputed {feature_name} with custom value: {fill_value}\")\n",
    "    \n",
    "    return df_imputed"
   ],
   "metadata": {
    "collapsed": false,
    "ExecuteTime": {
     "end_time": "2025-01-11T05:14:08.701728700Z",
     "start_time": "2025-01-11T05:14:08.654497700Z"
    }
   },
   "id": "d868ea28509eda7"
  },
  {
   "cell_type": "code",
   "execution_count": 18,
   "outputs": [],
   "source": [
    "mis = handle_missing_values(df,data)"
   ],
   "metadata": {
    "collapsed": false,
    "ExecuteTime": {
     "end_time": "2025-01-11T05:14:31.335957500Z",
     "start_time": "2025-01-11T05:14:31.288709800Z"
    }
   },
   "id": "74267b1dc932c3e9"
  },
  {
   "cell_type": "code",
   "execution_count": 19,
   "outputs": [
    {
     "data": {
      "text/plain": "     sepal_length  sepal_width  petal_length  petal_width         species\n0             5.1          3.5           1.4          0.2     Iris-setosa\n1             4.9          3.0           1.4          0.2     Iris-setosa\n2             4.7          3.2           1.3          0.2     Iris-setosa\n3             4.6          3.1           1.5          0.2     Iris-setosa\n4             5.0          3.6           1.4          0.2     Iris-setosa\n..            ...          ...           ...          ...             ...\n145           6.7          3.0           5.2          2.3  Iris-virginica\n146           6.3          2.5           5.0          1.9  Iris-virginica\n147           6.5          3.0           5.2          2.0  Iris-virginica\n148           6.2          3.4           5.4          2.3  Iris-virginica\n149           5.9          3.0           5.1          1.8  Iris-virginica\n\n[150 rows x 5 columns]",
      "text/html": "<div>\n<style scoped>\n    .dataframe tbody tr th:only-of-type {\n        vertical-align: middle;\n    }\n\n    .dataframe tbody tr th {\n        vertical-align: top;\n    }\n\n    .dataframe thead th {\n        text-align: right;\n    }\n</style>\n<table border=\"1\" class=\"dataframe\">\n  <thead>\n    <tr style=\"text-align: right;\">\n      <th></th>\n      <th>sepal_length</th>\n      <th>sepal_width</th>\n      <th>petal_length</th>\n      <th>petal_width</th>\n      <th>species</th>\n    </tr>\n  </thead>\n  <tbody>\n    <tr>\n      <th>0</th>\n      <td>5.1</td>\n      <td>3.5</td>\n      <td>1.4</td>\n      <td>0.2</td>\n      <td>Iris-setosa</td>\n    </tr>\n    <tr>\n      <th>1</th>\n      <td>4.9</td>\n      <td>3.0</td>\n      <td>1.4</td>\n      <td>0.2</td>\n      <td>Iris-setosa</td>\n    </tr>\n    <tr>\n      <th>2</th>\n      <td>4.7</td>\n      <td>3.2</td>\n      <td>1.3</td>\n      <td>0.2</td>\n      <td>Iris-setosa</td>\n    </tr>\n    <tr>\n      <th>3</th>\n      <td>4.6</td>\n      <td>3.1</td>\n      <td>1.5</td>\n      <td>0.2</td>\n      <td>Iris-setosa</td>\n    </tr>\n    <tr>\n      <th>4</th>\n      <td>5.0</td>\n      <td>3.6</td>\n      <td>1.4</td>\n      <td>0.2</td>\n      <td>Iris-setosa</td>\n    </tr>\n    <tr>\n      <th>...</th>\n      <td>...</td>\n      <td>...</td>\n      <td>...</td>\n      <td>...</td>\n      <td>...</td>\n    </tr>\n    <tr>\n      <th>145</th>\n      <td>6.7</td>\n      <td>3.0</td>\n      <td>5.2</td>\n      <td>2.3</td>\n      <td>Iris-virginica</td>\n    </tr>\n    <tr>\n      <th>146</th>\n      <td>6.3</td>\n      <td>2.5</td>\n      <td>5.0</td>\n      <td>1.9</td>\n      <td>Iris-virginica</td>\n    </tr>\n    <tr>\n      <th>147</th>\n      <td>6.5</td>\n      <td>3.0</td>\n      <td>5.2</td>\n      <td>2.0</td>\n      <td>Iris-virginica</td>\n    </tr>\n    <tr>\n      <th>148</th>\n      <td>6.2</td>\n      <td>3.4</td>\n      <td>5.4</td>\n      <td>2.3</td>\n      <td>Iris-virginica</td>\n    </tr>\n    <tr>\n      <th>149</th>\n      <td>5.9</td>\n      <td>3.0</td>\n      <td>5.1</td>\n      <td>1.8</td>\n      <td>Iris-virginica</td>\n    </tr>\n  </tbody>\n</table>\n<p>150 rows × 5 columns</p>\n</div>"
     },
     "execution_count": 19,
     "metadata": {},
     "output_type": "execute_result"
    }
   ],
   "source": [
    "mis"
   ],
   "metadata": {
    "collapsed": false,
    "ExecuteTime": {
     "end_time": "2025-01-11T05:14:33.231525900Z",
     "start_time": "2025-01-11T05:14:33.164319500Z"
    }
   },
   "id": "af885cddf443788f"
  },
  {
   "cell_type": "code",
   "execution_count": 75,
   "outputs": [],
   "source": [
    "def feature_reduction(X, y, json_data, target_info,X_encoded):\n",
    "   \n",
    "    reduction_config = json_data[\"design_state_data\"][\"feature_reduction\"]\n",
    "    method = reduction_config[\"feature_reduction_method\"]\n",
    "    n_features = int(reduction_config[\"num_of_features_to_keep\"])\n",
    "    \n",
    "    print(f\"Applying {method} feature reduction...\")\n",
    "    \n",
    "    if method == \"No Reduction\":\n",
    "        print(\"No feature reduction applied\")\n",
    "        return X\n",
    "        \n",
    "    elif method == \"Corr with Target\":\n",
    "        correlations = {}\n",
    "        for column in X.columns:\n",
    "            if X[column].dtype == \"object\":  \n",
    "                continue\n",
    "            correlation = X[column].corr(y)\n",
    "            correlations[column] = abs(correlation)\n",
    "            \n",
    "        selected_features = sorted(correlations.items(), \n",
    "                                   key=lambda x: x[1], \n",
    "                                   reverse=True)[:n_features]\n",
    "        selected_columns = [feat[0] for feat in selected_features]\n",
    "        \n",
    "        print(\"Correlation values:\")\n",
    "        for feat, corr in selected_features:\n",
    "            print(f\"{feat}: {corr:.3f}\")\n",
    "            \n",
    "        print(f\"\\nSelected features based on correlation: {selected_columns}\")\n",
    "        return X[selected_columns]\n",
    "        \n",
    "    elif method == \"Tree-based\":\n",
    "        n_trees = int(reduction_config[\"num_of_trees\"])\n",
    "        max_depth = int(reduction_config[\"depth_of_trees\"])\n",
    "        \n",
    "        if target_info[\"prediction_type\"] == \"Regression\":\n",
    "            rf_params = json_data[\"design_state_data\"][\"algorithms\"][\"RandomForestRegressor\"]\n",
    "            model = RandomForestRegressor(\n",
    "                n_estimators=rf_params[\"max_trees\"],\n",
    "                max_depth=rf_params[\"max_depth\"],\n",
    "                min_samples_leaf=rf_params[\"min_samples_per_leaf_min_value\"],\n",
    "                random_state=42\n",
    "            )\n",
    "            \n",
    "        model.fit(X_encoded, y)\n",
    "        importances = dict(zip(X_encoded.columns, model.feature_importances_))\n",
    "        selected_features = sorted(importances.items(), \n",
    "                                   key=lambda x: x[1], \n",
    "                                   reverse=True)[:n_features]\n",
    "        selected_columns = [feat[0] for feat in selected_features]\n",
    "        \n",
    "        print(f\"Selected features based on tree importance: {selected_columns}\")\n",
    "        print(X_encoded[selected_columns])\n",
    "        return X_encoded[selected_columns]\n",
    "        \n",
    "    elif method == \"PCA\":\n",
    "        pca = PCA(n_components=n_features)\n",
    "        X_pca = pca.fit_transform(X_encoded)\n",
    "        pca_columns = [f'PC{i+1}' for i in range(n_features)]\n",
    "        \n",
    "        print(f\"Variance explained by PCA components: {pca.explained_variance_ratio_}\")\n",
    "        return pd.DataFrame(X_pca, columns=pca_columns, index=X_encoded.index)\n",
    "        \n",
    "    else:\n",
    "        raise ValueError(f\"Unknown reduction method: {method}\")\n"
   ],
   "metadata": {
    "collapsed": false,
    "ExecuteTime": {
     "end_time": "2025-01-11T07:27:45.968879Z",
     "start_time": "2025-01-11T07:27:45.950930700Z"
    }
   },
   "id": "5db96f50c9c98263"
  },
  {
   "cell_type": "code",
   "execution_count": 107,
   "outputs": [
    {
     "name": "stdout",
     "output_type": "stream",
     "text": [
      "Applying Tree-based feature reduction...\n",
      "Selected features based on tree importance: ['species', 'petal_length', 'sepal_width', 'sepal_length']\n",
      "     species  petal_length  sepal_width  sepal_length\n",
      "0          0           1.4          3.5           5.1\n",
      "1          0           1.4          3.0           4.9\n",
      "2          0           1.3          3.2           4.7\n",
      "3          0           1.5          3.1           4.6\n",
      "4          0           1.4          3.6           5.0\n",
      "..       ...           ...          ...           ...\n",
      "145        2           5.2          3.0           6.7\n",
      "146        2           5.0          2.5           6.3\n",
      "147        2           5.2          3.0           6.5\n",
      "148        2           5.4          3.4           6.2\n",
      "149        2           5.1          3.0           5.9\n",
      "\n",
      "[150 rows x 4 columns]\n"
     ]
    }
   ],
   "source": [
    "reduction= feature_reduction(X,y,data,target_predictive_type,encode_feature)"
   ],
   "metadata": {
    "collapsed": false,
    "ExecuteTime": {
     "end_time": "2025-01-11T13:36:53.498507Z",
     "start_time": "2025-01-11T13:36:53.424432500Z"
    }
   },
   "id": "fb18ff9d5b09477b"
  },
  {
   "cell_type": "code",
   "execution_count": 81,
   "outputs": [],
   "source": [
    "def select_models(json_data, target_info):\n",
    "\n",
    "    algorithms = json_data[\"design_state_data\"][\"algorithms\"]\n",
    "    prediction_type = target_info['prediction_type']\n",
    "    selected_models = {}\n",
    "    \n",
    "    print(f\"\\nSelecting models for {prediction_type}\")\n",
    "    \n",
    "    for model_name, model_config in algorithms.items():\n",
    "        if model_config[\"is_selected\"]:\n",
    "            print(f\"\\nModel {model_name} is selected\")\n",
    "            if prediction_type == \"Regression\":\n",
    "                if any(x in model_name for x in [\"Regressor\", \"Regression\"]):\n",
    "                    selected_models[model_name] = model_config\n",
    "                    print(f\"Added {model_name} for regression task\")\n",
    "                else:\n",
    "                    print(f\"Skipping {model_name} - not suitable for regression\")\n",
    "    \n",
    "    return selected_models\n"
   ],
   "metadata": {
    "collapsed": false,
    "ExecuteTime": {
     "end_time": "2025-01-11T10:26:34.588462200Z",
     "start_time": "2025-01-11T10:26:34.570804Z"
    }
   },
   "id": "aa48da8582ecb0a6"
  },
  {
   "cell_type": "code",
   "execution_count": 115,
   "outputs": [
    {
     "name": "stdout",
     "output_type": "stream",
     "text": [
      "\n",
      "Selecting models for Regression\n",
      "\n",
      "Model RandomForestRegressor is selected\n",
      "Added RandomForestRegressor for regression task\n",
      "\n",
      "Final Selected Models with Parameters:\n",
      "==================================================\n",
      "\n",
      "RandomForestRegressor:\n",
      "- is_selected: True\n",
      "- min_trees: 10\n",
      "- max_trees: 20\n",
      "- feature_sampling_statergy: Default\n",
      "- min_depth: 20\n",
      "- max_depth: 25\n",
      "- min_samples_per_leaf_min_value: 5\n",
      "- min_samples_per_leaf_max_value: 10\n",
      "- parallelism: 0\n"
     ]
    }
   ],
   "source": [
    "selected_models = select_models(data, target_predictive_type)\n",
    "print(\"\\nFinal Selected Models with Parameters:\")\n",
    "print(\"=\" * 50)\n",
    "for model_name, model_config in selected_models.items():\n",
    "    print(f\"\\n{model_name}:\")\n",
    "    for param_name, param_value in model_config.items():\n",
    "        if param_name != \"model_name\":\n",
    "            print(f\"- {param_name}: {param_value}\")"
   ],
   "metadata": {
    "collapsed": false,
    "ExecuteTime": {
     "end_time": "2025-01-11T13:43:34.098971100Z",
     "start_time": "2025-01-11T13:43:34.060262400Z"
    }
   },
   "id": "574e02e0bef3ac1"
  },
  {
   "cell_type": "code",
   "execution_count": 85,
   "outputs": [],
   "source": [
    "def parse_hyper(json_data):\n",
    "     parms = json_data[\"design_state_data\"][\"hyperparameters\"]\n",
    "     return parms"
   ],
   "metadata": {
    "collapsed": false,
    "ExecuteTime": {
     "end_time": "2025-01-11T12:46:28.459472200Z",
     "start_time": "2025-01-11T12:46:28.412213200Z"
    }
   },
   "id": "e6a40eb1fd404e11"
  },
  {
   "cell_type": "code",
   "execution_count": 87,
   "outputs": [],
   "source": [
    "parameter = parse_hyper(data)"
   ],
   "metadata": {
    "collapsed": false,
    "ExecuteTime": {
     "end_time": "2025-01-11T12:46:46.376958900Z",
     "start_time": "2025-01-11T12:46:46.359843Z"
    }
   },
   "id": "febd48b54b59dfec"
  },
  {
   "cell_type": "code",
   "execution_count": 88,
   "outputs": [
    {
     "data": {
      "text/plain": "{'stratergy': 'Grid Search',\n 'shuffle_grid': True,\n 'random_state': 1,\n 'max_iterations': 2,\n 'max_search_time': 3,\n 'parallelism': 5,\n 'cross_validation_stratergy': 'Time-based K-fold(with overlap)',\n 'num_of_folds': 6,\n 'split_ratio': 0,\n 'stratified': True}"
     },
     "execution_count": 88,
     "metadata": {},
     "output_type": "execute_result"
    }
   ],
   "source": [
    "parameter"
   ],
   "metadata": {
    "collapsed": false,
    "ExecuteTime": {
     "end_time": "2025-01-11T12:46:54.609884100Z",
     "start_time": "2025-01-11T12:46:54.529690800Z"
    }
   },
   "id": "43da96e7151b09b7"
  },
  {
   "cell_type": "code",
   "execution_count": 132,
   "outputs": [],
   "source": [
    "def fit_and_predict_with_tuning(X, y, selected_models, parameter):\n",
    "    \n",
    "    if parameter[\"cross_validation_stratergy\"] == \"Time-based K-fold(with overlap)\":\n",
    "        cv = TimeSeriesSplit(n_splits=parameter[\"num_of_folds\"])\n",
    "    elif parameter[\"stratified\"]:\n",
    "        cv = StratifiedKFold(n_splits=parameter[\"num_of_folds\"], shuffle=parameter[\"shuffle_grid\"], random_state=parameter[\"random_state\"])\n",
    "    else:\n",
    "        cv = KFold(n_splits=parameter[\"num_of_folds\"], shuffle=parameter[\"shuffle_grid\"], random_state=parameter[\"random_state\"])\n",
    "\n",
    "    results = {}\n",
    "    for model_name, model_config in selected_models.items():\n",
    "        print(f\"\\nRunning GridSearchCV for {model_name}...\")\n",
    "        if model_name == \"RandomForestRegressor\":\n",
    "            model = RandomForestRegressor(random_state=parameter[\"random_state\"])\n",
    "            param_grid = {\n",
    "                \"n_estimators\": list(range(model_config[\"min_trees\"], model_config[\"max_trees\"] + 1)),\n",
    "                \"max_depth\": list(range(model_config[\"min_depth\"], model_config[\"max_depth\"] + 1)),\n",
    "                \"min_samples_leaf\": list(range(\n",
    "                    model_config[\"min_samples_per_leaf_min_value\"],\n",
    "                    model_config[\"min_samples_per_leaf_max_value\"] + 1\n",
    "                ))\n",
    "            }\n",
    "        \n",
    "        grid_search = GridSearchCV(\n",
    "            estimator=model,\n",
    "            param_grid=param_grid,\n",
    "            cv=cv,\n",
    "            scoring='neg_mean_squared_error' if \"Regressor\" in model_name else 'accuracy',\n",
    "            n_jobs=parameter[\"parallelism\"]\n",
    "        )\n",
    "        grid_search.fit(X, y)\n",
    "\n",
    "        best_model = grid_search.best_estimator_\n",
    "        results[model_name] = {\n",
    "            \"best_params\": grid_search.best_params_,\n",
    "            \"best_score\": grid_search.best_score_,\n",
    "        }\n",
    "\n",
    "        print(f\"Best parameters for {model_name}: {grid_search.best_params_}\")\n",
    "        print(f\"Best score for {model_name}: {grid_search.best_score_}\")\n",
    "\n",
    "       \n",
    "        if \"Regressor\" in model_name:\n",
    "            predictions = best_model.predict(X)\n",
    "            mse = mean_squared_error(y, predictions)\n",
    "            r2 = r2_score(y, predictions)\n",
    "            print(f\"Mean Squared Error (MSE) for {model_name}: {mse}\")\n",
    "            print(f\"R-squared (R2) for {model_name}: {r2}\")\n",
    "        \n",
    "\n",
    "    return results\n"
   ],
   "metadata": {
    "collapsed": false,
    "ExecuteTime": {
     "end_time": "2025-01-11T13:56:56.233775600Z",
     "start_time": "2025-01-11T13:56:56.218309500Z"
    }
   },
   "id": "478c26261bbfb690"
  },
  {
   "cell_type": "code",
   "execution_count": 134,
   "outputs": [
    {
     "name": "stdout",
     "output_type": "stream",
     "text": [
      "\n",
      "Running GridSearchCV for RandomForestRegressor...\n",
      "Best parameters for RandomForestRegressor: {'max_depth': 20, 'min_samples_leaf': 5, 'n_estimators': 10}\n",
      "Best score for RandomForestRegressor: -0.2026151136739501\n",
      "Mean Squared Error (MSE) for RandomForestRegressor: 0.019539404413639206\n",
      "R-squared (R2) for RandomForestRegressor: 0.9662258623129454\n"
     ]
    }
   ],
   "source": [
    "testing =fit_and_predict_with_tuning(reduction,y,selected_models,parameter)"
   ],
   "metadata": {
    "collapsed": false,
    "ExecuteTime": {
     "end_time": "2025-01-11T13:57:34.687377900Z",
     "start_time": "2025-01-11T13:57:18.129445100Z"
    }
   },
   "id": "2e652327044434aa"
  },
  {
   "cell_type": "code",
   "execution_count": 136,
   "outputs": [],
   "source": [
    "def pipeline(rtf_file_path, output_json_path, csv_path):\n",
    "    rtf_file = convert_rtf_json(rtf_file_path,output_json_path)\n",
    "    with open(output_json_path,'r') as file:\n",
    "         data = json.load(file)\n",
    "    df = load_data(csv_path)\n",
    "    target_predictive_type = extracting_target_predictive_type(data)\n",
    "    y = df[target_predictive_type['target']]\n",
    "    X = df.drop(target_predictive_type['target'], axis=1)\n",
    "    encode_feature = encode_categorical_features(X)\n",
    "    mis = handle_missing_values(df,data)\n",
    "    reduction =feature_reduction(X, y, data, target_predictive_type,encode_feature)\n",
    "    selected_models = select_models(data, target_predictive_type)\n",
    "    print(\"\\nFinal Selected Models with Parameters:\")\n",
    "    print(\"=\" * 50)\n",
    "    for model_name, model_config in selected_models.items():\n",
    "        print(f\"\\n{model_name}:\")\n",
    "        for param_name, param_value in model_config.items():\n",
    "            if param_name != \"model_name\":\n",
    "                print(f\"- {param_name}: {param_value}\")\n",
    "    parameter = parse_hyper(data)\n",
    "    predict =fit_and_predict_with_tuning(reduction,y,selected_models,parameter)\n",
    "    \n",
    "    return predict\n",
    "    "
   ],
   "metadata": {
    "collapsed": false
   },
   "id": "ccc9052f9ddb265"
  },
  {
   "cell_type": "code",
   "execution_count": 137,
   "outputs": [],
   "source": [
    "pipe = pipeline(\"algoparams_from_ui.json.rtf\",\"algoparams_from_ui.json\",\"iris.csv\",)"
   ],
   "metadata": {
    "collapsed": false
   },
   "id": "14f36a295b46b197"
  },
  {
   "cell_type": "code",
   "execution_count": null,
   "outputs": [],
   "source": [],
   "metadata": {
    "collapsed": false
   },
   "id": "33d2b36cc07a4124"
  }
 ],
 "metadata": {
  "kernelspec": {
   "name": "tensorflow",
   "language": "python",
   "display_name": "Python 3.9 (tensorflow)"
  },
  "language_info": {
   "codemirror_mode": {
    "name": "ipython",
    "version": 2
   },
   "file_extension": ".py",
   "mimetype": "text/x-python",
   "name": "python",
   "nbconvert_exporter": "python",
   "pygments_lexer": "ipython2",
   "version": "2.7.6"
  }
 },
 "nbformat": 4,
 "nbformat_minor": 5
}
